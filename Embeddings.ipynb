{
 "cells": [
  {
   "cell_type": "code",
   "execution_count": 6,
   "metadata": {},
   "outputs": [],
   "source": [
    "import tensorflow_datasets as tfds"
   ]
  },
  {
   "cell_type": "code",
   "execution_count": 7,
   "metadata": {},
   "outputs": [],
   "source": [
    "imdb, info = tfds.load('imdb_reviews', with_info=True, as_supervised=True)"
   ]
  },
  {
   "cell_type": "code",
   "execution_count": 9,
   "metadata": {},
   "outputs": [],
   "source": [
    "import numpy as np\n",
    "\n",
    "train_data, test_data = imdb['train'], imdb['test']"
   ]
  },
  {
   "cell_type": "code",
   "execution_count": 26,
   "metadata": {},
   "outputs": [],
   "source": [
    "train_sentences = []\n",
    "test_sentences = []\n",
    "\n",
    "train_labels = []\n",
    "test_labels = []\n",
    "\n",
    "for sentence, label in train_data:\n",
    "    train_sentences.append(str(sentence.numpy()))\n",
    "    train_labels.append(label.numpy())\n",
    "\n",
    "for sentence, label in test_data:\n",
    "    test_sentences.append(str(sentence.numpy()))\n",
    "    test_labels.append(label.numpy())"
   ]
  },
  {
   "cell_type": "code",
   "execution_count": 27,
   "metadata": {},
   "outputs": [
    {
     "output_type": "execute_result",
     "data": {
      "text/plain": [
       "'b\"This was an absolutely terrible movie. Don\\'t be lured in by Christopher Walken or Michael Ironside. Both are great actors, but this must simply be their worst role in history. Even their great acting could not redeem this movie\\'s ridiculous storyline. This movie is an early nineties US propaganda piece. The most pathetic scenes were those when the Columbian rebels were making their cases for revolutions. Maria Conchita Alonso appeared phony, and her pseudo-love affair with Walken was nothing but a pathetic emotional plug in a movie that was devoid of any real meaning. I am disappointed that there are movies like this, ruining actor\\'s like Christopher Walken\\'s good name. I could barely sit through it.\"'"
      ]
     },
     "metadata": {},
     "execution_count": 27
    }
   ],
   "source": [
    "train_sentences[0]"
   ]
  },
  {
   "cell_type": "code",
   "execution_count": 28,
   "metadata": {},
   "outputs": [
    {
     "output_type": "execute_result",
     "data": {
      "text/plain": [
       "0"
      ]
     },
     "metadata": {},
     "execution_count": 28
    }
   ],
   "source": [
    "train_labels[0]"
   ]
  },
  {
   "cell_type": "code",
   "execution_count": 29,
   "metadata": {},
   "outputs": [],
   "source": [
    "train_labels = np.array(train_labels)\n",
    "test_labels = np.array(test_labels)"
   ]
  },
  {
   "cell_type": "code",
   "execution_count": 31,
   "metadata": {},
   "outputs": [],
   "source": [
    "vocab_size = 10000\n",
    "embedding_dim = 64\n",
    "max_length = 200"
   ]
  },
  {
   "cell_type": "code",
   "execution_count": 33,
   "metadata": {},
   "outputs": [],
   "source": [
    "from tensorflow.keras.preprocessing.text import Tokenizer\n",
    "from tensorflow.keras.preprocessing.sequence import pad_sequences"
   ]
  },
  {
   "cell_type": "code",
   "execution_count": 42,
   "metadata": {},
   "outputs": [],
   "source": [
    "tokenizer = Tokenizer(num_words= vocab_size, oov_token=\"<OOV>\")\n",
    "tokenizer.fit_on_texts(train_sentences) # Build dictionary based on frequency of words"
   ]
  },
  {
   "cell_type": "code",
   "execution_count": 43,
   "metadata": {},
   "outputs": [],
   "source": [
    "train_sequences = tokenizer.texts_to_sequences(train_sentences) # Based on the dictionary, look up the word index in dictionary"
   ]
  },
  {
   "cell_type": "code",
   "execution_count": 46,
   "metadata": {},
   "outputs": [],
   "source": [
    "# If sentences too long, cut off else add more 0\n",
    "padded_train_sequences = pad_sequences(train_sequences, maxlen=max_length, truncating='post', padding='post')"
   ]
  },
  {
   "cell_type": "code",
   "execution_count": 47,
   "metadata": {},
   "outputs": [
    {
     "output_type": "execute_result",
     "data": {
      "text/plain": [
       "(25000, 200)"
      ]
     },
     "metadata": {},
     "execution_count": 47
    }
   ],
   "source": [
    "padded_train_sequences.shape"
   ]
  },
  {
   "cell_type": "code",
   "execution_count": 48,
   "metadata": {},
   "outputs": [],
   "source": [
    "test_sequences = tokenizer.texts_to_sequences(test_sentences)"
   ]
  },
  {
   "cell_type": "code",
   "execution_count": 49,
   "metadata": {},
   "outputs": [],
   "source": [
    "padded_test_sequences = pad_sequences(test_sequences, maxlen=max_length, truncating='post', padding='post')"
   ]
  },
  {
   "cell_type": "code",
   "execution_count": 51,
   "metadata": {},
   "outputs": [
    {
     "output_type": "execute_result",
     "data": {
      "text/plain": [
       "(25000, 200)"
      ]
     },
     "metadata": {},
     "execution_count": 51
    }
   ],
   "source": [
    "padded_test_sequences.shape"
   ]
  },
  {
   "cell_type": "code",
   "execution_count": 52,
   "metadata": {},
   "outputs": [],
   "source": [
    "from tensorflow.keras.models import Sequential\n",
    "from tensorflow.keras.layers import Embedding"
   ]
  },
  {
   "cell_type": "code",
   "execution_count": 53,
   "metadata": {},
   "outputs": [],
   "source": [
    "from tensorflow.keras.layers import Dense\n",
    "from tensorflow.keras.layers import Flatten"
   ]
  },
  {
   "cell_type": "code",
   "execution_count": 56,
   "metadata": {},
   "outputs": [],
   "source": [
    "model = Sequential([\n",
    "    Embedding(vocab_size, embedding_dim, input_length=max_length),\n",
    "    Flatten(),\n",
    "    Dense(10, activation='relu'),\n",
    "    Dense(1, activation='sigmoid')\n",
    "])\n",
    "\n",
    "model.compile(loss='binary_crossentropy', optimizer='adam', metrics=['acc'])\n"
   ]
  },
  {
   "cell_type": "code",
   "execution_count": 57,
   "metadata": {},
   "outputs": [
    {
     "output_type": "stream",
     "name": "stdout",
     "text": [
      "Model: \"sequential_1\"\n_________________________________________________________________\nLayer (type)                 Output Shape              Param #   \n=================================================================\nembedding_2 (Embedding)      (None, 200, 64)           640000    \n_________________________________________________________________\nflatten_2 (Flatten)          (None, 12800)             0         \n_________________________________________________________________\ndense_4 (Dense)              (None, 10)                128010    \n_________________________________________________________________\ndense_5 (Dense)              (None, 1)                 11        \n=================================================================\nTotal params: 768,021\nTrainable params: 768,021\nNon-trainable params: 0\n_________________________________________________________________\n"
     ]
    }
   ],
   "source": [
    "model.summary()"
   ]
  },
  {
   "cell_type": "code",
   "execution_count": 58,
   "metadata": {},
   "outputs": [
    {
     "output_type": "stream",
     "name": "stdout",
     "text": [
      "Epoch 1/10\n",
      "782/782 [==============================] - 28s 34ms/step - loss: 0.4255 - acc: 0.7856 - val_loss: 0.3351 - val_acc: 0.8546\n",
      "Epoch 2/10\n",
      "782/782 [==============================] - 26s 34ms/step - loss: 0.1285 - acc: 0.9566 - val_loss: 0.4192 - val_acc: 0.8308\n",
      "Epoch 3/10\n",
      "782/782 [==============================] - 28s 36ms/step - loss: 0.0137 - acc: 0.9983 - val_loss: 0.5172 - val_acc: 0.8372\n",
      "Epoch 4/10\n",
      "782/782 [==============================] - 24s 30ms/step - loss: 0.0020 - acc: 0.9999 - val_loss: 0.5579 - val_acc: 0.8414\n",
      "Epoch 5/10\n",
      "782/782 [==============================] - 21s 27ms/step - loss: 6.1010e-04 - acc: 1.0000 - val_loss: 0.5992 - val_acc: 0.8412\n",
      "Epoch 6/10\n",
      "782/782 [==============================] - 21s 27ms/step - loss: 3.0424e-04 - acc: 1.0000 - val_loss: 0.6310 - val_acc: 0.8424\n",
      "Epoch 7/10\n",
      "782/782 [==============================] - 25s 32ms/step - loss: 1.7055e-04 - acc: 1.0000 - val_loss: 0.6565 - val_acc: 0.8437\n",
      "Epoch 8/10\n",
      "782/782 [==============================] - 25s 32ms/step - loss: 1.0120e-04 - acc: 1.0000 - val_loss: 0.6857 - val_acc: 0.8434\n",
      "Epoch 9/10\n",
      "782/782 [==============================] - 21s 27ms/step - loss: 6.1835e-05 - acc: 1.0000 - val_loss: 0.7141 - val_acc: 0.8439\n",
      "Epoch 10/10\n",
      "782/782 [==============================] - 21s 27ms/step - loss: 3.8125e-05 - acc: 1.0000 - val_loss: 0.7408 - val_acc: 0.8443\n"
     ]
    },
    {
     "output_type": "execute_result",
     "data": {
      "text/plain": [
       "<tensorflow.python.keras.callbacks.History at 0x1e1298ea8e0>"
      ]
     },
     "metadata": {},
     "execution_count": 58
    }
   ],
   "source": [
    "model.fit(padded_train_sequences, train_labels, epochs=10, validation_data=(padded_test_sequences, test_labels))"
   ]
  },
  {
   "source": [
    "## Test model"
   ],
   "cell_type": "markdown",
   "metadata": {}
  },
  {
   "cell_type": "code",
   "execution_count": 79,
   "metadata": {},
   "outputs": [],
   "source": [
    "results = {0: \"negative\", 1: \"positive\"}"
   ]
  },
  {
   "cell_type": "code",
   "execution_count": 80,
   "metadata": {},
   "outputs": [
    {
     "output_type": "stream",
     "name": "stdout",
     "text": [
      "positive\n"
     ]
    }
   ],
   "source": [
    "test_input = [input()]\n",
    "test_input_sequence = tokenizer.texts_to_sequences(test_input)\n",
    "padded_test_input_sequence = pad_sequences(test_input_sequence, maxlen=max_length, truncating='post', padding='post')\n",
    "if(model.predict(padded_test_input_sequence)[0][0] < 0.5):\n",
    "    print(results[0])\n",
    "else:\n",
    "    print(results[1])"
   ]
  },
  {
   "cell_type": "code",
   "execution_count": null,
   "metadata": {},
   "outputs": [],
   "source": []
  }
 ],
 "metadata": {
  "kernelspec": {
   "name": "python395jvsc74a57bd0dcacb0086e9a4f4eabd41c33bf4faac5ea0a3337ed3f5eff0680afa930572c04",
   "display_name": "Python 3.9.5 64-bit"
  },
  "language_info": {
   "codemirror_mode": {
    "name": "ipython",
    "version": 3
   },
   "file_extension": ".py",
   "mimetype": "text/x-python",
   "name": "python",
   "nbconvert_exporter": "python",
   "pygments_lexer": "ipython3",
   "version": "3.9.5"
  }
 },
 "nbformat": 4,
 "nbformat_minor": 4
}